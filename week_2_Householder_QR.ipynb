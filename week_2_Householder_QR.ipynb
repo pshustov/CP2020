{
 "cells": [
  {
   "cell_type": "code",
   "execution_count": 3,
   "metadata": {},
   "outputs": [],
   "source": [
    "import numpy as np\n",
    "\n",
    "from numpy.testing import assert_allclose"
   ]
  },
  {
   "cell_type": "markdown",
   "metadata": {},
   "source": [
    "# Part I. Construct a Householder reflection of a vector."
   ]
  },
  {
   "cell_type": "markdown",
   "metadata": {},
   "source": [
    "Given a vector $\\mathbf{x}$, and a plane with a normal vector $\\mathbf{u}$, the Householder transformation reflects $\\mathbf{x}$ about the plane.\n",
    "\n",
    "The matrix of the Householder transformation is\n",
    "\n",
    "$$\n",
    "\\mathbf{H} = \\mathbf{1} - 2 \\mathbf{u} \\mathbf{u}^T\n",
    "$$\n",
    "\n",
    "Given two equal-length vectors $\\mathbf{x}$ and $\\mathbf{y}$, a rotation which brings $\\mathbf{x}$ to $\\mathbf{y}$ is a Householder transform with\n",
    "\n",
    "$$\n",
    "\\mathbf{u} = \\frac{\\mathbf{x} - \\mathbf{y}}{\\left|\\mathbf{x} - \\mathbf{y}\\right|}\n",
    "$$"
   ]
  },
  {
   "cell_type": "markdown",
   "metadata": {},
   "source": [
    "Write a function which rotates a given vector, $\\mathbf{x} = (x_1, \\dots, x_n)$ into $\\mathbf{y} = (\\left|\\mathbf{x}\\right|, 0, \\dots, 0)^T$ using a Householder transformation."
   ]
  },
  {
   "cell_type": "code",
   "execution_count": null,
   "metadata": {},
   "outputs": [],
   "source": []
  },
  {
   "cell_type": "code",
   "execution_count": 4,
   "metadata": {},
   "outputs": [],
   "source": [
    "import numpy as np\n",
    "def householder(vec):\n",
    "    \"\"\"Construct a Householder reflection to zero out 2nd and further components of a vector.\n",
    "\n",
    "    Parameters\n",
    "    ----------\n",
    "    vec : array-like of floats, shape (n,)\n",
    "        Input vector\n",
    "    \n",
    "    Returns\n",
    "    -------\n",
    "    outvec : array of floats, shape (n,)\n",
    "        Transformed vector, with ``outvec[1:]==0`` and ``|outvec| == |vec|``\n",
    "    H : array of floats, shape (n, n)\n",
    "        Orthogonal matrix of the Householder reflection\n",
    "    \"\"\"\n",
    "    vec = np.asarray(vec, dtype=float)\n",
    "    if vec.ndim != 1:\n",
    "        raise ValueError(\"vec.ndim = %s, expected 1\" % vec.ndim)\n",
    "    \n",
    "    y = np.zeros_like(vec)\n",
    "    y[0]=np.linalg.norm(vec)\n",
    "    u = (vec - y)/np.linalg.norm(vec-y)\n",
    "    H = np.eye(vec.shape[0]) - 2*np.outer(u, u)\n",
    "\n",
    "    return H@vec, H\n"
   ]
  },
  {
   "cell_type": "markdown",
   "metadata": {},
   "source": [
    "Test your function using tests below:"
   ]
  },
  {
   "cell_type": "code",
   "execution_count": 5,
   "metadata": {},
   "outputs": [],
   "source": [
    "# Test I.1 (10% of the total grade).\n",
    "\n",
    "v = np.array([1, 2, 3])\n",
    "v1, h = householder(v)\n",
    "\n",
    "assert_allclose(np.dot(h, v1), v)\n",
    "assert_allclose(np.dot(h, v), v1)"
   ]
  },
  {
   "cell_type": "code",
   "execution_count": 6,
   "metadata": {},
   "outputs": [],
   "source": [
    "# Test I.2 (10% of the total grade).\n",
    "\n",
    "rndm = np.random.RandomState(1234)\n",
    "\n",
    "vec = rndm.uniform(size=7)\n",
    "v1, h = householder(vec)\n",
    "\n",
    "assert_allclose(np.dot(h, v1), vec)"
   ]
  },
  {
   "cell_type": "markdown",
   "metadata": {},
   "source": [
    "# Part II. Compute the $\\mathrm{QR}$ decomposition of a matrix.\n",
    "\n",
    "Given a rectangular $m\\times n$ matrix $\\mathbf{A}$, construct a Householder reflector matrix $\\mathbf{H}_1$ which transforms the first column of $\\mathbf{A}$ (and call the result $\\mathbf{A}^{(1)}$)\n",
    "\n",
    "$$\n",
    "\\mathbf{H}_1 \\mathbf{A} =%\n",
    "\\begin{pmatrix}\n",
    "\\times & \\times & \\times & \\dots & \\times \\\\\n",
    "0      & \\times & \\times & \\dots & \\times \\\\\n",
    "0      & \\times & \\times & \\dots & \\times \\\\\n",
    "&& \\dots&& \\\\\n",
    "0      & \\times & \\times & \\dots & \\times \\\\\n",
    "\\end{pmatrix}%\n",
    "\\equiv \\mathbf{A}^{(1)}\\;.\n",
    "$$\n",
    "\n",
    "Now consider the lower-right submatrix of $\\mathbf{A}^{(1)}$, and construct a Householder reflector which annihilates the second column of $\\mathbf{A}$:\n",
    "\n",
    "$$\n",
    "\\mathbf{H}_2 \\mathbf{A}^{(1)} =%\n",
    "\\begin{pmatrix}\n",
    "\\times & \\times & \\times & \\dots & \\times \\\\\n",
    "0      & \\times & \\times & \\dots & \\times \\\\\n",
    "0      & 0      & \\times & \\dots & \\times \\\\\n",
    "&& \\dots&& \\\\\n",
    "0      & 0      & \\times & \\dots & \\times \\\\\n",
    "\\end{pmatrix}%\n",
    "\\equiv \\mathbf{A}^{(2)} \\;.\n",
    "$$\n",
    "\n",
    "Repeating the process $n-1$ times, we obtain\n",
    "\n",
    "$$\n",
    "\\mathbf{H}_{n-1} \\cdots \\mathbf{H}_2 \\mathbf{H}_1 \\mathbf{A} = \\mathbf{R} \\;,\n",
    "$$\n",
    "\n",
    "with $\\mathbf{R}$ an upper triangular matrix. Since each $\\mathbf{H}_k$ is orthogonal, so is their product. The inverse of an orthogonal matrix is orthogonal. Hence the process generates the $\\mathrm{QR}$ decomposition of $\\mathbf{A}$. "
   ]
  },
  {
   "cell_type": "markdown",
   "metadata": {},
   "source": [
    "Write a function, which receives a recangular matrix, $A$, and returns the Q and R factors of the $QR$ factorization of $A$."
   ]
  },
  {
   "cell_type": "code",
   "execution_count": 7,
   "metadata": {},
   "outputs": [
    {
     "name": "stdout",
     "output_type": "stream",
     "text": [
      "[[1 1 1]\n",
      " [9 2 1]\n",
      " [1 3 1]]\n",
      "\n",
      "\n",
      "Q =  [[ 0.10976426  0.25714373  0.96011922]\n",
      " [ 0.98787834 -0.13489507 -0.07680954]\n",
      " [ 0.10976426  0.95691192 -0.26883338]]\n",
      "\n",
      "\n",
      "R =  [[ 9.11043358e+00  2.41481372e+00  1.20740686e+00]\n",
      " [ 2.83285228e-17  2.85808934e+00  1.07916058e+00]\n",
      " [-5.51776577e-16  2.20404591e-16  6.14476298e-01]]\n",
      "\n",
      "\n",
      "\n",
      "\n",
      "QR =  [[1. 1. 1.]\n",
      " [9. 2. 1.]\n",
      " [1. 3. 1.]]\n"
     ]
    }
   ],
   "source": [
    "def qr_decomp(a):\n",
    "    \"\"\"Compute the QR decomposition of a matrix.\n",
    "    \n",
    "    Parameters\n",
    "    ----------\n",
    "    a : ndarray, shape(m, n)\n",
    "        The input matrix\n",
    "    \n",
    "    Returns\n",
    "    -------\n",
    "    q : ndarray, shape(m, m)\n",
    "        The orthogonal matrix\n",
    "    r : ndarray, shape(m, n)\n",
    "        The upper triangular matrix\n",
    "        \n",
    "    Examples\n",
    "    --------\n",
    "    >>> a = np.random.random(size=(3, 5))\n",
    "    >>> q, r = qr_decomp(a)\n",
    "    >>> np.assert_allclose(np.dot(q, r), a)\n",
    "    \n",
    "    \"\"\"\n",
    "    a1 = np.array(a, copy=True, dtype=float)\n",
    "    m, n = a1.shape\n",
    "    Q = np.eye(m) # Основа для Q из QR-разложения\n",
    "    \n",
    "    for i in range(min(m-1, n)):\n",
    "        vec, H_i = householder(a1[i:, i]) # Применяем хаусхолдер для зануления i-ого столбца под главной диагональю (включительно)\n",
    "        E = np.eye(i)\n",
    "        O = np.zeros((i, m-i))\n",
    "        O1 = np.zeros((m-i, i))\n",
    "        Q_shtr_i =np.asarray(np.bmat([[E, O], [O1, H_i]])) # Внутренняя функция собирает нужную матрицу их блоков (единичной матрицы, маленькой матрицы из написанной ранее функции-хаусхолдера и блоков нулей), а внешняя переделывает полученный объект в np.массив\n",
    "        a1 = Q_shtr_i @ a1 # Зануляем часть очередного столбца\n",
    "        Q = Q @ Q_shtr_i.T # Добавляем очередную итерационную матрицу к конечной Q\n",
    "        print()             \n",
    "    return Q, a1\n",
    "    \n",
    "# Проверим на простой матрице \n",
    "\n",
    "x = np.array([[1,1, 1], [9, 2, 1], [1, 3, 1]])\n",
    "print(x)\n",
    "print(\"Q = \", qr_decomp(x)[0])\n",
    "print(\"R = \", qr_decomp(x)[1])\n",
    "print(\"QR = \", qr_decomp(x)[0] @ qr_decomp(x)[1])\n",
    "\n"
   ]
  },
  {
   "cell_type": "code",
   "execution_count": 8,
   "metadata": {},
   "outputs": [],
   "source": [
    "# Might want to turn this on for prettier printing: zeros instead of `1e-16` etc\n",
    "\n",
    "np.set_printoptions(suppress=True)"
   ]
  },
  {
   "cell_type": "code",
   "execution_count": 10,
   "metadata": {},
   "outputs": [
    {
     "name": "stdout",
     "output_type": "stream",
     "text": [
      "\n",
      "\n",
      "\n"
     ]
    }
   ],
   "source": [
    "# Test II.1 (20% of the total grade)\n",
    "\n",
    "rndm = np.random.RandomState(1234)\n",
    "a = rndm.uniform(size=(5, 3))\n",
    "q, r = qr_decomp(a)\n",
    "\n",
    "# test that Q is indeed orthogonal\n",
    "assert_allclose(np.dot(q, q.T), np.eye(5), atol=1e-10)\n",
    "\n",
    "# test the decomposition itself\n",
    "assert_allclose(np.dot(q, r), a)"
   ]
  },
  {
   "cell_type": "markdown",
   "metadata": {},
   "source": [
    "Now compare your decompositions to the library function (which actually wraps the corresponding LAPACK functions)"
   ]
  },
  {
   "cell_type": "code",
   "execution_count": 11,
   "metadata": {},
   "outputs": [
    {
     "name": "stdout",
     "output_type": "stream",
     "text": [
      "\n",
      "\n",
      "\n",
      "Q =  [[ 0.13665049  0.53601299 -0.09369752  0.7697136   0.30459557]\n",
      " [ 0.56035895  0.0935397  -0.53326881  0.01839528 -0.62652547]\n",
      " [ 0.19725922  0.65948912  0.60068463 -0.32384673 -0.24589462]\n",
      " [ 0.62498418 -0.50418303  0.52144688  0.28453698  0.04822969]\n",
      " [ 0.48765568  0.12171264 -0.27224305 -0.47049398  0.67223293]]\n",
      "\n",
      "\n",
      "\n",
      "R =  [[ 1.40152769  1.2514379   0.89523615]\n",
      " [ 0.          0.84158252  0.68447942]\n",
      " [ 0.         -0.          0.5496046 ]\n",
      " [ 0.          0.          0.        ]\n",
      " [ 0.         -0.         -0.        ]]\n",
      "---------------------------------------------------------------------- \n",
      "\n",
      "[[-0.13665049  0.53601299  0.09369752  0.661619   -0.49749149]\n",
      " [-0.56035895  0.0935397   0.53326881 -0.52477245 -0.34276292]\n",
      " [-0.19725922  0.65948912 -0.60068463 -0.37879015  0.14784752]\n",
      " [-0.62498418 -0.50418303 -0.52144688  0.18967657 -0.21750907]\n",
      " [-0.48765568  0.12171264  0.27224305  0.32774225  0.75222783]] \n",
      "\n",
      "[[-1.40152769 -1.2514379  -0.89523615]\n",
      " [ 0.          0.84158252  0.68447942]\n",
      " [ 0.          0.         -0.5496046 ]\n",
      " [ 0.          0.          0.        ]\n",
      " [ 0.          0.          0.        ]]\n"
     ]
    }
   ],
   "source": [
    "from scipy.linalg import qr\n",
    "qq, rr = qr(a)\n",
    "\n",
    "print(\"Q = \", qr_decomp(a)[0])\n",
    "print(\"R = \", qr_decomp(a)[1])\n",
    "print(\"----------------------------------------------------------------------\", \"\\n\")\n",
    "print(qq, \"\\n\")\n",
    "print(rr)\n",
    "assert_allclose(np.dot(qq, rr), a)"
   ]
  },
  {
   "cell_type": "markdown",
   "metadata": {},
   "source": [
    "Check if your `q` and `r` agree with `qq` and `rr`. Explain."
   ]
  },
  {
   "cell_type": "markdown",
   "metadata": {},
   "source": [
    "*Enter your explanation here* (10% of the total grade, peer-graded)"
   ]
  },
  {
   "cell_type": "markdown",
   "metadata": {},
   "source": [
    "Матрицы отличаются, так как QR-разложение не единственно. То есть в библиотечной реализации матрица R выбирается иначе. Можно привести пример: формально( так как определитель таки равен нулю) единичная матрица I может быть представлена в виде QR-разложения как произведение единичных матриц, так единичная матрица одновременно является и верхнетреугольной и ортогональной. Но также разложением будет являться и произведение двух \"минус-единичных\" матриц. Вот и неоднозначность...\n",
    "Более общее утверждение состоит в следующем: A = QR <==> A=QPP^(-1)R это верно для некоторых P (для ортогональных и верхнетруегольных одновременно) --> разложение на (QP) и (P^(-1)R) тоже является искомым разложенинем. Но такие Р могут быть только диагональными, и при этом PP^(-1) = I, ---> см.частный случай.(Если матрица не квадаратная, а прямоугольная, то (так как нижние строки (если m>n, то m-n) состоят из нулей)  несколько столбцов может отличаться не только знаком, но и модулем.\n"
   ]
  },
  {
   "cell_type": "markdown",
   "metadata": {},
   "source": [
    "# Part III. Avoid forming Householder matrices explicitly."
   ]
  },
  {
   "cell_type": "markdown",
   "metadata": {},
   "source": [
    "Note the special structure of the Householder matrices: A reflector $\\mathbf{H}$ is completely specified by a reflection vector $\\mathbf{u}$. Also note that the computational cost of applying a reflector to a matrix strongly depends on the order of operations:\n",
    "\n",
    "$$\n",
    "\\left( \\mathbf{u} \\mathbf{u}^T \\right) \\mathbf{A}  \\qquad \\textrm{is } O(m^2 n)\\;,\n",
    "$$\n",
    "while\n",
    "$$\n",
    "\\mathbf{u} \\left( \\mathbf{u}^T \\mathbf{A} \\right) \\qquad \\textrm{is } O(mn)\n",
    "$$\n",
    "\n",
    "Thus, it seems to make sense to *avoid* forming the $\\mathbf{H}$ matrices. Instead, one stores the reflection vectors, $\\mathbf{u}$, themselves, and provides a way of multiplying an arbitrary matrix by $\\mathbf{Q}^T$, e.g., as a standalone function (or a class)."
   ]
  },
  {
   "cell_type": "markdown",
   "metadata": {},
   "source": [
    "Write a function which constructs the `QR` decomposition of a matrix *without ever forming the* $\\mathbf{H}$ matrices, and returns the $\\mathbf{R}$ matrix and reflection vectors. \n",
    "\n",
    "Write a second function, which uses reflection vectors to multiply a matrix with $\\mathbf{Q}^T$. Make sure to include enough comments for a marker to follow your implementation, and add tests. \n",
    "\n",
    "(Peer-graded, 40% of the total grade)"
   ]
  },
  {
   "cell_type": "code",
   "execution_count": 12,
   "metadata": {},
   "outputs": [
    {
     "name": "stdout",
     "output_type": "stream",
     "text": [
      "[[-9.11043358 -2.41481372 -1.20740686]\n",
      " [ 0.          2.85808934  1.07916058]\n",
      " [ 0.          0.         -0.6144763 ]] \n",
      "\n",
      "[[9.11043358 2.41481372 1.20740686]\n",
      " [0.         2.85808934 1.07916058]\n",
      " [0.         0.         0.6144763 ]]\n"
     ]
    }
   ],
   "source": [
    "def constr_R(a): # Эта функция собирает матрицу R, а также собирает все векторы u в матрицу U (по строкам)\n",
    "    a1 = np.array(a, copy=True, dtype=float)\n",
    "    m, n = a1.shape\n",
    "    U = np.zeros_like(a1)\n",
    "    \n",
    "    for i in range(min(m-1, n)):\n",
    "        R = a1[i:, i:]\n",
    "        vec = R[:, 0]\n",
    "        \n",
    "        y = np.zeros_like(vec)\n",
    "        y[0]=np.linalg.norm(vec)\n",
    "        u = (vec - y)/np.linalg.norm(vec-y) # Применяем почти хаусхолдер для зануления i-ого столбца под главной диагональю (включительно)\n",
    "        \n",
    "        R = R - 2*np.outer(u, u.T @ R) # Зануляем часть очередного столбца\n",
    "        a1[i:, i:] = R # Меняем на \"исправленную часть\" рассматриваемую часть матрицы а\n",
    "        U[:len(vec),i]= u # Номером вектора \"u\" является номер столбца матрицы U, да не очень эстетично, но как смогла.\n",
    "        \n",
    "    return(a1, U)\n",
    "\n",
    "#print(constr_R(x)[0])\n",
    "                         # ---Можно сравнить полученную матрицу с матрицей-результатом работы библиотечной функции.\n",
    "print(qr(x)[1], \"\\n\")\n",
    "\n",
    "\n",
    "def constr_R_Q_U(a, U): # Эта функция принимает на вход начальную матрицу а и массив векторов u(столбики), возвращает R\n",
    "    a1 = np.array(a, copy=True, dtype=float)\n",
    "    m, n = a1.shape\n",
    "    \n",
    "    for i in range(min(m-1, n)): # Построим матрицу аналогично\n",
    "        R = a1[i:, i:]\n",
    "       \n",
    "        u = U[:R.shape[0],i]\n",
    "        R = R - 2*np.outer(u, (u.T) @ R) # Фактически процедура из предыдущей функции, просто векторы не нужно искать\n",
    "        a1[i:, i:] = R # Меняем на \"исправленную часть\" рассматриваемую часть матрицы а\n",
    "    return a1\n",
    "print(constr_R_Q_U(x, constr_R(x)[1]))\n",
    "\n",
    "# Выведены матрицы R из разложения двумя способами (моим и библиотечным)\n"
   ]
  },
  {
   "cell_type": "code",
   "execution_count": 13,
   "metadata": {},
   "outputs": [
    {
     "name": "stdout",
     "output_type": "stream",
     "text": [
      "\n",
      "\n",
      "\n",
      "Выводятся две матрицы из R разложения. Первая - полученная двумя моими функциями, вторая - результат разложения с помощью библиотечной функции\n",
      "[[ 1.40152769  1.2514379   0.89523615]\n",
      " [ 0.          0.84158252  0.68447942]\n",
      " [ 0.          0.          0.5496046 ]\n",
      " [ 0.          0.          0.        ]\n",
      " [ 0.          0.         -0.        ]] \n",
      "\n",
      "[[-1.40152769 -1.2514379  -0.89523615]\n",
      " [ 0.          0.84158252  0.68447942]\n",
      " [ 0.          0.         -0.5496046 ]\n",
      " [ 0.          0.          0.        ]\n",
      " [ 0.          0.          0.        ]] \n",
      "\n",
      "Так как отличиет только в знаке, то мы победили\n"
     ]
    }
   ],
   "source": [
    "# Проведем  тест на произвольных матрицах\n",
    "rndm = np.random.RandomState(1234)\n",
    "z = rndm.uniform(size=(5, 3))\n",
    "\n",
    "# Сначала проверим матрицу R\n",
    "\n",
    "bibl_r =  qr(z)[1]\n",
    "Q_m =  qr_decomp(z)[0]\n",
    "\n",
    "print(\"Выводятся две матрицы из R разложения. Первая - полученная двумя моими функциями, вторая - результат разложения с помощью библиотечной функции\")\n",
    "print(constr_R_Q_U(z, constr_R(z)[1]), \"\\n\")\n",
    "print(bibl_r,\"\\n\" )\n",
    "\n",
    "print(\"Так как отличиет только в знаке, то мы победили\")\n",
    "\n"
   ]
  }
 ],
 "metadata": {
  "kernelspec": {
   "display_name": "Python 3",
   "language": "python",
   "name": "python3"
  },
  "language_info": {
   "codemirror_mode": {
    "name": "ipython",
    "version": 3
   },
   "file_extension": ".py",
   "mimetype": "text/x-python",
   "name": "python",
   "nbconvert_exporter": "python",
   "pygments_lexer": "ipython3",
   "version": "3.7.1"
  }
 },
 "nbformat": 4,
 "nbformat_minor": 2
}

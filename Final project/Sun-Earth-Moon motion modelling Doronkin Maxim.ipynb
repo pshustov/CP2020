{
  "nbformat": 4,
  "nbformat_minor": 0,
  "metadata": {
    "colab": {
      "name": "Sun-Earth-Moon_Doronkin.ipynb",
      "provenance": [],
      "authorship_tag": "ABX9TyNQiiBOB74IPaLttqyA5uRN",
      "include_colab_link": true
    },
    "kernelspec": {
      "name": "python3",
      "display_name": "Python 3"
    }
  },
  "cells": [
    {
      "cell_type": "markdown",
      "metadata": {
        "id": "view-in-github",
        "colab_type": "text"
      },
      "source": [
        "<a href=\"https://colab.research.google.com/github/maximblaze/CP2020/blob/master/Sun_Earth_Moon_Doronkin.ipynb\" target=\"_parent\"><img src=\"https://colab.research.google.com/assets/colab-badge.svg\" alt=\"Open In Colab\"/></a>"
      ]
    },
    {
      "cell_type": "markdown",
      "metadata": {
        "id": "oplJuDmSqmxA",
        "colab_type": "text"
      },
      "source": [
        "Моделирование движения системы Солнце-Земля-Луна с помощью численного интегрирование системы дифференциальных уравнений движения. Подготовил: студент факультета физики НИУ ВШЭ Доронькин Максим Вячеславович"
      ]
    },
    {
      "cell_type": "markdown",
      "metadata": {
        "id": "JPLIFz06DMH2",
        "colab_type": "text"
      },
      "source": [
        "Сперва определимся с начальными условиями и гравитационными параметрами тел. Начнем с определения неизменных (в нашем приближении) во времени параметрах, то есть определения констант, масс, и гравитационных параметров , которые равняются в астрономии : $$mu = GM$$, а затем нормируем эти параметры на Солнечные (как самого большого тела): $$kappa = mu / mu(sol) $$"
      ]
    },
    {
      "cell_type": "code",
      "metadata": {
        "id": "zHPZKCtCWLcO",
        "colab_type": "code",
        "colab": {
          "base_uri": "https://localhost:8080/",
          "height": 187
        },
        "outputId": "2492fbc0-4667-4b61-c48b-c4cc69a5a505"
      },
      "source": [
        "import numpy as np\n",
        "\n",
        "#\n",
        "# Исходные данные задачи\n",
        "#\n",
        "\n",
        "# Гравитационная постоянная\n",
        "G = 6.67e-11\n",
        "\n",
        "# Массы тел (Луна, Земля, Солнце)\n",
        "m = [7.349e22, 5.792e24, 1.989e30]\n",
        "\n",
        "# Расчитываем гравитационные параметры тел\n",
        "mu = []\n",
        "\n",
        "print(\"Гравитационные параметры тел\")\n",
        "\n",
        "for i, mass in enumerate(m):\n",
        "    mu.append(G * mass)\n",
        "    print(\"mu[\" + str(i) + \"] = \" + str(mu[i]))\n",
        "\n",
        "# Нормируем гравитационные параметры к Солнцу\n",
        "kappa = []\n",
        "\n",
        "print(\"Нормированные гравитационные параметры\")\n",
        "\n",
        "for i, gp in enumerate(mu):\n",
        "    kappa.append(gp / mu[-1])\n",
        "    print(\"xi[\" + str(i) + \"] = \" + str(kappa[i]))\n",
        "\n",
        "print(\"\\n\")\n",
        "\n",
        "# Астрономическая единица\n",
        "a = 1.495978707e11"
      ],
      "execution_count": 21,
      "outputs": [
        {
          "output_type": "stream",
          "text": [
            "Гравитационные параметры тел\n",
            "mu[0] = 4901783000000.0\n",
            "mu[1] = 386326400000000.0\n",
            "mu[2] = 1.326663e+20\n",
            "Нормированные гравитационные параметры\n",
            "xi[0] = 3.6948215183509304e-08\n",
            "xi[1] = 2.912016088486677e-06\n",
            "xi[2] = 1.0\n",
            "\n",
            "\n"
          ],
          "name": "stdout"
        }
      ]
    },
    {
      "cell_type": "markdown",
      "metadata": {
        "id": "v3D0c9NpfyRo",
        "colab_type": "text"
      },
      "source": [
        "Теперь введём безразмерное время, нормировав единицы на единицы системы Солнце-Земля, а также загрузим с сайта NASA координаты и скорости Земли и Луны из эфемирид Земли и Луны относительно барицентра Солнечной системы. \n",
        "В качестве начальной точки возьмём день ближайшего Солнечного затмения, 21 июня 2020 года! (как раз очень скоро! Да и по нашему условию подойдет, ведь три тела выстроятся на одной линии (в приближении)\n",
        "\n",
        "https://ssd.jpl.nasa.gov/horizons.cgi#results - отсюда взяли координаты и скорости Луны и Земли\n",
        "\n"
      ]
    },
    {
      "cell_type": "code",
      "metadata": {
        "id": "5adckWUee6_C",
        "colab_type": "code",
        "colab": {
          "base_uri": "https://localhost:8080/",
          "height": 153
        },
        "outputId": "401a5fb3-d896-4b0b-ba64-d1c497dd53c7"
      },
      "source": [
        "# Масштаб безразмерного времени, c\n",
        "T = 2 * np.pi * a * np.sqrt(a / mu[-1])\n",
        "\n",
        "print(\"Масштаб времени T = \" + str(T) + \"\\n\")\n",
        "\n",
        "# Вводим константы для вычисления безразмерных скоростей\n",
        "Td = 86400.0\n",
        "u = np.sqrt(mu[-1] / a) / 2 / np.pi\n",
        "\n",
        "\n",
        "\n",
        "\n",
        "\n",
        "\n",
        "# Координаты NASA для Луны\n",
        "\n",
        "xL = -8.347919466463547E-03\n",
        "yL = -1.006754793574750E+00\n",
        "zL = 9.990837700281036E-05\n",
        "\n",
        "xi_10 = np.array([xL, yL, zL])\n",
        "\n",
        "print(\"Начальное положение Луны, а.е.: \" + str(xi_10))\n",
        "\n",
        "# Координаты NASA для Земли\n",
        "\n",
        "xE = -8.507983270876264E-03\n",
        "yE = -1.009350395115207E+00\n",
        "zE = 1.099616387149111E-04\n",
        "\n",
        "xi_20 = np.array([xE, yE, zE])\n",
        "\n",
        "\n",
        "print(\"Начальное положение Земли, а.е.: \" + str(xi_20))\n",
        "\n",
        "# Начальная скорость Луны\n",
        "vxL = 1.633922122378138E-02\n",
        "vyL = -1.136453088011751E-04\n",
        "vzL = 5.351804905004730E-05\n",
        "\n",
        "vL0 = np.array([vxL, vyL, vzL])\n",
        "uL0 = np.array([0.0, 0.0, 0.0])\n",
        "\n",
        "for i, v in enumerate(vL0):\n",
        "    vL0[i] = v * a / Td\n",
        "    uL0[i] = vL0[i] / u\n",
        "\n",
        "print(\"Начальная скорость Луны, м/с: \" + str(vL0))\n",
        "print(\" -//- безразмерная: \" + str(uL0))\n",
        "\n",
        "# Начальная скорость Земли\n",
        "vxE = 1.692317951162722E-02\n",
        "vyE = -1.241578574296244E-04\n",
        "vzE = -4.559334600220198E-07\n",
        "\n",
        "vE0 = np.array([vxE, vyE, vzE])\n",
        "uE0 = np.array([0.0, 0.0, 0.0])\n",
        "\n",
        "for i, v in enumerate(vE0):\n",
        "    vE0[i] = v * a / Td\n",
        "    uE0[i] = vE0[i] / u\n",
        "\n",
        "print(\"Начальная скорость Земли, м/с: \" + str(vE0))\n",
        "print(\" -//- безразмерная: \" + str(uE0))"
      ],
      "execution_count": 22,
      "outputs": [
        {
          "output_type": "stream",
          "text": [
            "Масштаб времени T = 31563683.35432583\n",
            "\n",
            "Начальное положение Луны, а.е.: [-8.34791947e-03 -1.00675479e+00  9.99083770e-05]\n",
            "Начальное положение Земли, а.е.: [-8.50798327e-03 -1.00935040e+00  1.09961639e-04]\n",
            "Начальная скорость Луны, м/с: [28290.65629599  -196.77194689    92.66419192]\n",
            " -//- безразмерная: [ 5.96905098 -0.04151695  0.01955124]\n",
            "Начальная скорость Земли, м/с: [ 2.93017549e+04 -2.14973971e+02 -7.89429106e-01]\n",
            " -//- безразмерная: [ 6.18238286e+00 -4.53573993e-02 -1.66561798e-04]\n"
          ],
          "name": "stdout"
        }
      ]
    },
    {
      "cell_type": "markdown",
      "metadata": {
        "id": "O6uJqpsJoSEm",
        "colab_type": "text"
      },
      "source": [
        "А теперь рассчитаем положение Солнца относительно барицентра системы, воспользовавшись уравнением на барицентр \n",
        "$$m_1*r_1 + m_2*r_2 + m_3*r_3 = 0 $$\n",
        ",отнормировав массы на массу Солнца."
      ]
    },
    {
      "cell_type": "code",
      "metadata": {
        "id": "lfnJAA2Bopnk",
        "colab_type": "code",
        "colab": {
          "base_uri": "https://localhost:8080/",
          "height": 102
        },
        "outputId": "44480310-c0a3-4b1f-d568-199f5805f319"
      },
      "source": [
        "# Расчитываем начальное положение Солнца, полагая что начало координат - в центре масс всей системы\n",
        "\n",
        "xi_30 = - kappa[0] * xi_10 - kappa[1] * xi_20\n",
        "\n",
        "print(\"Начальное положение Солнца, а.е.: \" + str(xi_30))\n",
        "\n",
        "\n",
        "print(\"\\n\")\n",
        "# Начальная скорость Солнца\n",
        "vS0 = - kappa[0] * vL0 - kappa[1] * vE0\n",
        "uS0 = - kappa[0] * uL0 - kappa[1] * uE0\n",
        "\n",
        "print(\"Начальная скорость Солнца, м/с: \" + str(vS0))\n",
        "print(\" -//- безразмерная: \" + str(uS0))"
      ],
      "execution_count": 23,
      "outputs": [
        {
          "output_type": "stream",
          "text": [
            "Начальное положение Солнца, а.е.: [ 2.50838249e-08  2.97644238e-06 -3.23901497e-10]\n",
            "\n",
            "\n",
            "Начальная скорость Солнца, м/с: [-8.63724708e-02  6.33278035e-04 -1.12494624e-06]\n",
            " -//- безразмерная: [-1.82237441e-05  1.33615454e-07 -2.37352623e-10]\n"
          ],
          "name": "stdout"
        }
      ]
    },
    {
      "cell_type": "markdown",
      "metadata": {
        "id": "Xpr-9KHlga3f",
        "colab_type": "text"
      },
      "source": [
        "А теперь уже займемся окончательной предобработкой данных. Для того чтобы подставлять нашу систему уравнений в блок, который нам её решит, необходимо получить ускорения трёх тел. Получим мы их прямым дифференцированием с учетом безразмерного времени. А ускорение Солнца просто получим из уравнения на барицентр системы: \n",
        "$$m_1*r_1 + m_2*r_2 + m_3*r_3 = 0 $$"
      ]
    },
    {
      "cell_type": "code",
      "metadata": {
        "id": "44VXJH5hWPjz",
        "colab_type": "code",
        "colab": {}
      },
      "source": [
        "def calcAccels(xi):\n",
        "    k = 4 * np.pi ** 2\n",
        "\n",
        "    xi12 = xi[1] - xi[0]\n",
        "    xi13 = xi[2] - xi[0]\n",
        "    xi23 = xi[2] - xi[1]\n",
        "\n",
        "    s12 = np.sqrt(np.dot(xi12, xi12))\n",
        "    s13 = np.sqrt(np.dot(xi13, xi13))\n",
        "    s23 = np.sqrt(np.dot(xi23, xi23))\n",
        "\n",
        "    a1 = (k * kappa[1] / s12 ** 3) * xi12 + (k * kappa[2] / s13 ** 3) * xi13\n",
        "    a2 = -(k * kappa[0] / s12 ** 3) * xi12 + (k * kappa[2] / s23 ** 3) * xi23\n",
        "    a3 = -(k * kappa[0] / s13 ** 3) * xi13 - (k * kappa[1] / s23 ** 3) * xi23\n",
        "\n",
        "    return [a1, a2, a3]"
      ],
      "execution_count": 24,
      "outputs": []
    },
    {
      "cell_type": "markdown",
      "metadata": {
        "id": "1UCnY1p3hgEE",
        "colab_type": "text"
      },
      "source": [
        "Теперь окончательно приведем нашу систему к очень простому виду, к нормальной форме Коши  $$dy/dtau = f (tau, y) $$ , где y будет для каждого из трех тел являться вектором из 6 переменных, координат и скоростей Земли, Солнца и Луны"
      ]
    },
    {
      "cell_type": "code",
      "metadata": {
        "id": "IM9-6FnqXBiZ",
        "colab_type": "code",
        "colab": {}
      },
      "source": [
        "#\n",
        "#   Система уравнений в нормальной форме Коши\n",
        "#\n",
        "def f(t, y):\n",
        "    n = 9\n",
        "\n",
        "    dydt = np.zeros((2 * n))\n",
        "\n",
        "    for i in range(0, n):\n",
        "        dydt[i] = y[i + n]\n",
        "\n",
        "    xi1 = np.array(y[0:3])\n",
        "    xi2 = np.array(y[3:6])\n",
        "    xi3 = np.array(y[6:9])\n",
        "\n",
        "    accels = calcAccels([xi1, xi2, xi3])\n",
        "\n",
        "    i = n\n",
        "    for accel in accels:\n",
        "        for a in accel:\n",
        "            dydt[i] = a\n",
        "            i = i + 1\n",
        "\n",
        "    return dydt\n",
        "\n"
      ],
      "execution_count": 25,
      "outputs": []
    },
    {
      "cell_type": "markdown",
      "metadata": {
        "id": "0S_hrVl-jNdi",
        "colab_type": "text"
      },
      "source": [
        "Выведем начальные условия:"
      ]
    },
    {
      "cell_type": "code",
      "metadata": {
        "id": "Lg9Pqao3XQCE",
        "colab_type": "code",
        "colab": {}
      },
      "source": [
        "# Начальные условия задачи Коши\n",
        "y0 = [xi_10[0], xi_10[1], xi_10[2],\n",
        "      xi_20[0], xi_20[1], xi_20[2],\n",
        "      xi_30[0], xi_30[1], xi_30[2],\n",
        "      uL0[0], uL0[1], uL0[2],\n",
        "      uE0[0], uE0[1], uE0[2],\n",
        "      uS0[0], uS0[1], uS0[2]]\n",
        "\n"
      ],
      "execution_count": 26,
      "outputs": []
    },
    {
      "cell_type": "markdown",
      "metadata": {
        "id": "LCurtfTIjQYV",
        "colab_type": "text"
      },
      "source": [
        "Наконец произведем численное интегрирование, с помощью модуля scipy.integrate.ode из scipy.integrate, параметры для него подобрать несложно : 'vode' - так как у нас все значения действительны, nsteps, maxsteps и rtol подбираются интуитивно, самое интересное это метод, от которого кстати тоже зависит vode. Итак, метод для решения этого диффура - BDF (backward differenciation formula)\n",
        "Так как наша система жесткая (собственные числа матрицы могут быть большими), то лучше не применять явные методы, поэтому будем решать неявным. BDF это обобщение неявного метода Эйлера. Метод Эйлера считает каждую следующую точку зависящей от предыдущей, а BDF рассматривает сразу семейство предыдущих точек (не больше 5, после уже решение нестабильно). \n",
        "Более подробно: https://en.wikipedia.org/wiki/Backward_differentiation_formula\n",
        "\n",
        "\n",
        "Ну и выберем промежуток времени, в течение которого мы хотим рассмотреть движение НТ.\n"
      ]
    },
    {
      "cell_type": "code",
      "metadata": {
        "id": "6TOP-A-qXTcY",
        "colab_type": "code",
        "colab": {}
      },
      "source": [
        "# Начальное время\n",
        "t_begin = 0\n",
        "# Конечное время\n",
        "t_end = 30 * Td / T\n",
        "# Интересующее нас число точек траектории\n",
        "N_plots = 1000\n",
        "# Шаг времени между точкими\n",
        "step = (t_end - t_begin) / N_plots\n",
        "\n",
        "import scipy.integrate as spi\n",
        "\n",
        "solver = spi.ode(f)\n",
        "\n",
        "solver.set_integrator('vode', nsteps=50000, method='bdf', max_step=1e-5, rtol=1e-12)\n",
        "solver.set_initial_value(y0, t_begin)\n",
        "\n",
        "ts = []\n",
        "ys = []\n",
        "i = 0\n",
        "points = []\n",
        "while solver.successful() and solver.t <= t_end:\n",
        "    solver.integrate(solver.t + step)\n",
        "    ts.append(solver.t)\n",
        "    ys.append(solver.y)\n",
        "    if solver.y[0] == solver.y[3] and solver.y[1] == solver.y[4]:\n",
        "        points.append(solver.y)\n",
        "    #print(ts[0], ys[0])\n",
        "    i = i + 1\n",
        "\n",
        "t = np.vstack(ts)\n",
        "\n",
        "xi1_x, xi1_y, xi1_z, \\\n",
        "xi2_x, xi2_y, xi2_z, \\\n",
        "xi3_x, xi3_y, xi3_z, \\\n",
        "u1_x, u1_y, u1_z, \\\n",
        "u2_x, u2_y, u2_z, \\\n",
        "u3_x, u3_y, u3_z = np.vstack(ys).T\n",
        "\n"
      ],
      "execution_count": 27,
      "outputs": []
    },
    {
      "cell_type": "markdown",
      "metadata": {
        "id": "NZ3bCO1RnNB5",
        "colab_type": "text"
      },
      "source": [
        "Построим сначала график, на котором можно увидеть траектории всех трех НТ за период, который мы выбрали в предыдущем пункте:\n"
      ]
    },
    {
      "cell_type": "code",
      "metadata": {
        "id": "1e1_yfJoXgKw",
        "colab_type": "code",
        "colab": {
          "base_uri": "https://localhost:8080/",
          "height": 295
        },
        "outputId": "e55e9d08-af5d-4027-efb6-795e844362d0"
      },
      "source": [
        "import matplotlib.pyplot as plt\n",
        "\n",
        "fig = plt.figure()\n",
        "ax = fig.add_subplot(111, projection='rectilinear')\n",
        "ax.plot((xi1_x) * a, (xi1_y) * a, color='blue')\n",
        "ax.plot((xi2_x) * a, (xi2_y) * a, color='red')\n",
        "ax.plot((xi3_x) * a , (xi3_y) * a, color='yellow')\n",
        "\n",
        "ax.axis('equal')\n",
        "ax.set_xlabel('X, м')\n",
        "\n",
        "\n",
        "#более детально рассмотрим наш график, чтобы увидеть на нём движение всех тел, \n",
        "#и доказать что мы действительно нарисовали все три траектории\n",
        "\n",
        "\n",
        "#ax.set_xlim(-5e+5, 5e+5) #+5 - Солнце\n",
        "#ax.set_ylim(-5e+5, 5e+5) #+5 - Солнце\n",
        "\n",
        "\n",
        "#ax.set_xlim(0e+11, 0.5e+11) #+5 - Луна\n",
        "#ax.set_ylim(-1.6e11, -1.4e+11) #+5 - Луна\n",
        "\n",
        "\n",
        "ax.set_ylabel('Y, м')\n",
        "ax.grid(True)\n",
        "ax.set_title('Траектории всех трёх тел')\n",
        "\n",
        "plt.show()"
      ],
      "execution_count": 34,
      "outputs": [
        {
          "output_type": "display_data",
          "data": {
            "image/png": "[encoded data removed]",
            "text/plain": [
              "<Figure size 432x288 with 1 Axes>"
            ]
          },
          "metadata": {
            "tags": [],
            "needs_background": "light"
          }
        }
      ]
    },
    {
      "cell_type": "markdown",
      "metadata": {
        "id": "pQlVUjr9nhk0",
        "colab_type": "text"
      },
      "source": [
        "А тут рассмотрим конкретно движение Луны вокруг Земли, чтобы заметить, какое влияние оказывает на орбиту Луны Солнце. Как можно видеть, орбита смещена и это обусловлено, скорее всего, именно влиянием третьего, возбуждающего тела, то есть Солнца."
      ]
    },
    {
      "cell_type": "code",
      "metadata": {
        "id": "CW493oy1XpLx",
        "colab_type": "code",
        "colab": {
          "base_uri": "https://localhost:8080/",
          "height": 295
        },
        "outputId": "5d158f0a-d4cf-4d9f-dfe5-0636ac2d2fe9"
      },
      "source": [
        "fig2 = plt.figure()\n",
        "ax2 = fig2.add_subplot(111, projection='rectilinear')\n",
        "ax2.plot((xi1_x - xi2_x) * a, (xi1_y - xi2_y) * a, color='red')\n",
        "ax2.axis('equal')\n",
        "ax2.set_xlim(-5e8, 5e8)\n",
        "ax2.set_xlabel('X, м')\n",
        "ax2.set_ylim(-5e8, 5e8)\n",
        "ax2.set_ylabel('Y, м')\n",
        "ax2.grid(True)\n",
        "ax2.set_title('Проекция орбиты Луны в плоскость эклиптики')\n",
        "\n",
        "plt.show()"
      ],
      "execution_count": 29,
      "outputs": [
        {
          "output_type": "display_data",
          "data": {
            "image/png": "[encoded data removed]",
            "text/plain": [
              "<Figure size 432x288 with 1 Axes>"
            ]
          },
          "metadata": {
            "tags": [],
            "needs_background": "light"
          }
        }
      ]
    }
  ]
}

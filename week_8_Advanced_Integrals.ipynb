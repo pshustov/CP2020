{
 "cells": [
  {
   "cell_type": "markdown",
   "metadata": {},
   "source": [
    "## Part 1. Gaussian quadrature\n",
    "\n",
    "The Gaussian quadrature method is one of the methods of numerical integration that allows you to increase the accuracy of integration, by using orthogonal polynomials and their roots as nodes.\n",
    "\n",
    "$$\n",
    "\\int_a^b \\!  w(x)\\, f(x)\\, dx \\approx \\sum_{k=1}^n w_k \\, f(x_k) \\;,\n",
    "$$\n",
    "\n",
    "here $\\omega$ is the weight function, this weight function determines the basis of orthogonal polynomials whose roots are used as integration nodes. If the function $f(x)$ is a polynomial, then such an integration method gives *exact* value for the integral."
   ]
  },
  {
   "cell_type": "markdown",
   "metadata": {},
   "source": [
    "For example, let's calculate the following integral:\n",
    "$$\n",
    "\\int_{-1}^1 (7x^3 - 8 x^2 - 3 x + 3) dx  \\label{eq1}\\tag{1}\n",
    "$$\n",
    "\n",
    "Here function is already polynomial, so we put the weight function $\\omega(x) = 1$. Then the calculation of the integral reduces to the sum in the polynomials roots witch corresponding to the weight function $\\omega(x) = 1$. For example, here https://dlmf.nist.gov/18.3 you may see which basis of polynomials corresponds to your weight function.\n",
    "\n",
    "You may see, that Legendre polynomials correspond to our weight function. Now go to the documentation https://docs.scipy.org/doc/scipy/reference/special.html#orthogonal-polynomials. Here, the function *roots_legendre* immediately gives you the roots of the Legendre polynomial and weight at this roots (for Legendre polynomials all these weight are ones).\n"
   ]
  },
  {
   "cell_type": "markdown",
   "metadata": {},
   "source": [
    "### Task 1.1\n",
    "(20% of the grade)"
   ]
  },
  {
   "cell_type": "markdown",
   "metadata": {},
   "source": [
    "1. Calculate the exact value of the integral ([1](#mjx-eqn-eq1)) using a pen and paper (or in your mind). Remember it, then you will compare numerical results with it."
   ]
  },
  {
   "cell_type": "markdown",
   "metadata": {},
   "source": [
    "Можно убрать половину членов, заметив что они нечетные фукнции, тогда останется -8 * (2/3) + 6\n",
    "\n",
    "То есть значение интеграла это 2/3"
   ]
  },
  {
   "cell_type": "markdown",
   "metadata": {},
   "source": [
    "2. Calculate the value of the integral ([1](#mjx-eqn-eq1)) using the usual method of numerical integration on a uniform grid (for example, implemented by you in week_6_calculus homework). Estimate the number of nodes needed to achieve relative accuracy $10^{-10}$."
   ]
  },
  {
   "cell_type": "code",
   "execution_count": 2,
   "metadata": {},
   "outputs": [
    {
     "name": "stdout",
     "output_type": "stream",
     "text": [
      "Значение интеграла (1) =  0.666666666698381\n",
      "Для достижения точности 1e-10 потребовалось 409600 узлов равномерной сетки\n"
     ]
    }
   ],
   "source": [
    "### Enter your code and answer here\n",
    "import numpy as np\n",
    "\n",
    "def midpoint_rule(func, a, b, eps):                                       # функция, написанная в шестой неделе\n",
    "    \"\"\" Calculate the integral of f from a to b using the midpoint rule.   \n",
    "    \n",
    "    Parameters\n",
    "    ----------\n",
    "    func : callable\n",
    "        The function to integrate.\n",
    "    a : float\n",
    "        The lower limit of integration.\n",
    "    b : float\n",
    "        The upper limit of integration.\n",
    "    eps : float\n",
    "        The target accuracy of the estimate.\n",
    "        \n",
    "    Returns\n",
    "    -------\n",
    "    integral : float\n",
    "        The estimate of $\\int_a^b f(x) dx$.\n",
    "    intervals : int\n",
    "        Number of intervals in finite sum\n",
    "    \"\"\"\n",
    "    # ... ENTER YOUR CODE HERE ...\n",
    "    N = 100                  # начинаю со 100 отрезков\n",
    "    step_n = (b - a) / N\n",
    "    step_2n = (b - a) / (2*N)\n",
    "    I_n = 0\n",
    "    I_2n = 0\n",
    "    for i in range(N):\n",
    "        I_n += func(a + step_n/2 + step_n * i) * step_n       #два первых шага сетки\n",
    "    for i in range(2 * N):\n",
    "        I_2n += func(a + step_2n/2 + step_2n * i) * step_2n\n",
    "        \n",
    "    \n",
    "    while np.abs(I_2n - I_n) > eps:   # в случае невыполнения условия, I_2n становится I_n, для I_2n увеличиваю число узлов в два раза\n",
    "        I_n = I_2n\n",
    "        step_2n /= 2\n",
    "        I_2n = 0\n",
    "        N *= 2\n",
    "        \n",
    "        for i in range(2 * N):\n",
    "            I_2n += func(a + step_2n/2 + step_2n * i) * step_2n\n",
    "        \n",
    "    return I_2n, 2*N   # возвращаю сразу и кол-во интервалов\n",
    "\n",
    "\n",
    "truth = 2./3      # точное значение интеграла\n",
    "\n",
    "def f(x):\n",
    "    return 7*x**3 - 8*x**2 - 3*x + 3     # интегрируемая функция\n",
    "\n",
    "acc = 1e-10\n",
    "Integral, N = midpoint_rule(f, -1, 1, acc)\n",
    "print('Значение интеграла (1) = ', Integral)\n",
    "print(f'Для достижения точности {acc} потребовалось {N} узлов равномерной сетки')"
   ]
  },
  {
   "cell_type": "markdown",
   "metadata": {},
   "source": [
    "3. Calculate the integral ([1](#mjx-eqn-eq1)) using the roots of the Legendre polynomial from 1 to 6 degrees as nodes (to get roots and weigths use scipy.special.roots_legendre)"
   ]
  },
  {
   "cell_type": "code",
   "execution_count": 3,
   "metadata": {},
   "outputs": [
    {
     "name": "stdout",
     "output_type": "stream",
     "text": [
      "For degree of 1, error of integral is equal to 5.333333333333333\n",
      "For degree of 2, error of integral is equal to 7.771561172376096e-16\n",
      "For degree of 3, error of integral is equal to 2.7755575615628914e-15\n",
      "For degree of 4, error of integral is equal to 1.1102230246251565e-16\n",
      "For degree of 5, error of integral is equal to 1.887379141862766e-15\n",
      "For degree of 6, error of integral is equal to 2.886579864025407e-15\n"
     ]
    }
   ],
   "source": [
    "### Enter your code here\n",
    "import scipy.special as scsp\n",
    "\n",
    "for n in range(1, 7):\n",
    "    nodes, w = scsp.roots_legendre(n)    # получаем вектор узлов и весов для них\n",
    "    integral = 0\n",
    "    for i in range(n):\n",
    "        integral += w[i]*f(nodes[i])\n",
    "    print(f'For degree of {n}, error of integral is equal to {np.abs(integral-truth)}')   # выводим разницу аналитического и численного результатов"
   ]
  },
  {
   "cell_type": "markdown",
   "metadata": {},
   "source": [
    "Compare the number of nodes needed to obtain the same accuracy in both numerical methods."
   ]
  },
  {
   "cell_type": "markdown",
   "metadata": {},
   "source": [
    "Уже с двумя узлами, неточность вычисления интеграла на 5 порядка меньше чем на равномерной сетке с огромным количеством узлов\n",
    "\n",
    "А это потому, что наша функция 3 степени, что значит хороший результат уже со второй степени"
   ]
  },
  {
   "cell_type": "markdown",
   "metadata": {},
   "source": [
    "### Task 1.2\n",
    "(20% of the grade)\n",
    "\n",
    "Calculate the value of the same integral, but on the interval from 0 to 10.\n",
    "$$\n",
    "\\int_{0}^{10} (7x^3 - 8 x^2 - 3 x + 3) dx \n",
    "$$\n",
    "\n",
    "Please note that you can no longer directly use Legendre polynomials, because they are defined for the interval (-1,1). But you can always make an *affine transformation* (a transformation that does not change the area) in order to go to the desired coordinate system."
   ]
  },
  {
   "cell_type": "code",
   "execution_count": 43,
   "metadata": {},
   "outputs": [
    {
     "name": "stdout",
     "output_type": "stream",
     "text": [
      "Истинное значение это 14713.333333333333\n",
      "For degree of 1, integral is equal to 6630.0\n",
      "For degree of 2, integral is equal to 14713.333333333336\n",
      "For degree of 3, integral is equal to 14713.333333333332\n",
      "For degree of 4, integral is equal to 14713.333333333334\n",
      "For degree of 5, integral is equal to 14713.333333333332\n",
      "For degree of 6, integral is equal to 14713.333333333334\n"
     ]
    }
   ],
   "source": [
    "### Enter your code here\n",
    "\n",
    "def affine(a0, b0, a, b):                        # афинное преобразование одного отрезка(задан [a0, b0]) в другой([a, b])\n",
    "    a0, b0 = np.min([a0, b0]), np.max([a0, b0])\n",
    "    a, b = np.min([a, b]), np.max([a, b])\n",
    "    \n",
    "    stretch = np.abs((b - a) / (b0 - a0))           # изменение длины\n",
    "    \n",
    "    shift = a - a0 * stretch                         # смещение левой границы начального отрезка после растяжения\n",
    "    return stretch, shift\n",
    "\n",
    "#truth = 14713.333333333333\n",
    "print('Истинное значение это 14713.333333333333')\n",
    "for n in range(1, 7):\n",
    "    nodes, w = scsp.roots_legendre(n)\n",
    "    \n",
    "    stretch, shift = affine(-1, 1, 0, 10)\n",
    "    \n",
    "    nodes = nodes * stretch + shift       # сместили корни на нужный нам интервал\n",
    "    \n",
    "    integral = 0\n",
    "    for i in range(n):\n",
    "        integral += w[i] * f(nodes[i]) * stretch\n",
    "    print(f'For degree of {n}, integral is equal to {integral}')"
   ]
  },
  {
   "cell_type": "markdown",
   "metadata": {},
   "source": [
    "Видно, что уже с 2 узлами ошибка порядка 1e-12, связанная c хранением чисел"
   ]
  },
  {
   "cell_type": "markdown",
   "metadata": {},
   "source": [
    "### Task 1.3\n",
    "(20% of the grade)\n",
    "\n",
    "Calculate the value of the following integral:\n",
    "$$\n",
    "\\int_{0}^{2\\pi} \\frac{cos(x) dx }{\\sqrt{4\\pi^2 - x^2}}\n",
    "$$\n",
    "by using the corresponding basis of orthogonal polynomials. \n",
    "Find the degree of the polynomial (number of nodes) at which the accuracy of the integral starts to exceed the double floating point accuracy."
   ]
  },
  {
   "cell_type": "code",
   "execution_count": 10,
   "metadata": {},
   "outputs": [
    {
     "name": "stdout",
     "output_type": "stream",
     "text": [
      "For degree of 1, error of integral is equal to 1.2247861679826322\n",
      "For degree of 2, error of integral is equal to 0.7642430720804387\n",
      "For degree of 3, error of integral is equal to 0.8751592887589293\n",
      "For degree of 4, error of integral is equal to 0.23025656558085106\n",
      "For degree of 5, error of integral is equal to 0.031850907536460804\n",
      "For degree of 6, error of integral is equal to 0.002775177168371501\n",
      "For degree of 7, error of integral is equal to 0.00016783546433718488\n",
      "For degree of 8, error of integral is equal to 7.4911851228876e-06\n",
      "For degree of 9, error of integral is equal to 2.575610645871862e-07\n",
      "For degree of 10, error of integral is equal to 7.041587757328216e-09\n",
      "For degree of 11, error of integral is equal to 1.5689644028427097e-10\n",
      "For degree of 12, error of integral is equal to 2.9057867223514222e-12\n",
      "For degree of 13, error of integral is equal to 4.5352610555937645e-14\n",
      "For degree of 14, error of integral is equal to 4.440892098500626e-16\n",
      "For degree of 15, error of integral is equal to 1.1102230246251565e-16\n",
      "For degree of 16, error of integral is equal to 1.1102230246251565e-16\n",
      "For degree of 17, error of integral is equal to 2.220446049250313e-16\n",
      "For degree of 18, error of integral is equal to 0.0\n",
      "For degree of 19, error of integral is equal to 0.0\n",
      "For degree of 20, error of integral is equal to 2.220446049250313e-16\n"
     ]
    }
   ],
   "source": [
    "### Enter your code here\n",
    "# видно, что это похоже на полиномы Чебышева 1 рода, но немного смещенная; вынесем из корня 4 Pi**2, сделаем замену переменной, чтобы прийти к нужному весу\n",
    "# Тогда интеграл будет от 0 до 1, а аргумент косинуса станет (2 * Pi * x)\n",
    "# А еще можно воспользоваться четностью функции, чтобы совсем подвести интергал под полиномы Чебышева, и интгерировать от -1 до 1, но разделив на 2\n",
    "\n",
    "def func(x):\n",
    "    return np.cos(2 * np.pi * x)\n",
    "\n",
    "truth = 0.34601015881226427 # интеграл выражается через функцию Бесселя\n",
    "\n",
    "for n in range(1, 21):\n",
    "    nodes, w = scsp.roots_chebyt(n)\n",
    "    \n",
    "    integral = 0\n",
    "    \n",
    "    for i in range(n):\n",
    "        integral += w[i] * func(nodes[i])\n",
    "    integral /= 2                          # /2 появляется, из-за изменения пределов интегрирования\n",
    "    \n",
    "    print(f'For degree of {n}, error of integral is equal to {np.abs(integral-truth)}')"
   ]
  },
  {
   "cell_type": "markdown",
   "metadata": {},
   "source": [
    "Видно, что начиная с 18 узлов, мы уже не можем различить результат"
   ]
  },
  {
   "cell_type": "markdown",
   "metadata": {},
   "source": [
    "## Part 2. Fredholm equation\n",
    "\n",
    "There are two types of Fredholm equations. \n",
    "\n",
    "1. Fredholm equation of the first kind:\n",
    "$$\n",
    "\\int_a^b \\! K(x, t)\\, \\color{blue}{f(t)} \\,dt = g(x)\n",
    "$$\n",
    "\n",
    "2. Fredholm equation of the second kind:\n",
    "$$\n",
    "\\lambda \\int_a^b\\! K(x, t)\\, \\color{blue}{f(t)} \\, dt + g(x) = \\color{blue}{f(x)}\n",
    "$$\n",
    "\n",
    "Here higtlighted function $f(x)$ is unknown, kernel function $K(x, t)$ and given function $g(x)$, $\\lambda$ is a real number. Numerically, Fredholm equations of the first kind are very ill-conditioned. We will consider equations of the second kind only."
   ]
  },
  {
   "cell_type": "markdown",
   "metadata": {},
   "source": [
    "The basic idea is to approximate the integral by some quadrature formula\n",
    "\n",
    "$$\n",
    "\\int_a^b \\! \\xi(t)\\, dt \\approx \\sum_j^N w_j\\, \\xi(t_j)\n",
    "$$\n",
    "\n",
    "with appropriate weights $w_j$ and nodes $t_j$ and $j=1, \\dots, N$. The accuracy of the approximation is controlled by $N$."
   ]
  },
  {
   "cell_type": "markdown",
   "metadata": {},
   "source": [
    "This way, the FE is approximated by \n",
    "\n",
    "$$\n",
    "\\lambda \\sum_j w_j\\, K(x, t_j)\\, \\color{blue}{f(t_j)} + g(x) = \\color{blue}{f(x)}\n",
    "$$\n",
    "\n",
    "Note that here $x$ is a continuous variable, and we only discretized $t$.\n"
   ]
  },
  {
   "cell_type": "markdown",
   "metadata": {},
   "source": [
    "Evaluating this equation on the grid $x = t_k$, we obtain\n",
    "\n",
    "$$\n",
    "\\lambda \\sum_j w_j \\, K_{k, j}\\, \\color{blue}{f_j} + g_k = \\color{blue}{f_k}\n",
    "$$\n",
    "\n",
    "where $f_j \\equiv f(t_j)$, $g_j \\equiv g(t_j)$ and $K_{k, j} \\equiv K(t_k, t_j)$. This is nothing but a system of linear algebraic equations for the vector of $\\color{blue}{f_j}$.\n",
    "\n",
    "Its solution gives the values of the unknown function $f(x)$ at the discrete values $x=t_j$ for $j=1, \\dots, N$."
   ]
  },
  {
   "cell_type": "markdown",
   "metadata": {},
   "source": [
    "### Task 2.1\n",
    "(20% of the grade)\n",
    "\n",
    "Solve an example Fredholm equation of the second kind\n",
    "\n",
    "$$\n",
    "f(x) = \\sin(\\pi x)  + \\frac{1}{2} \\int_0^1\\! f(t) \\, dt\n",
    "$$\n",
    "\n",
    "Here $a, b = 0, 1$, $\\lambda = \\dfrac{1}{2}$, the kernel is $K(x, t) = 1$ and the right-hand side $g(x) = \\sin(\\pi x)$.\n",
    "\n",
    "In fact, the exact solution is (В. А. Попов, Сборник задач по интегральным уравнениям, 2006, стр. 5)\n",
    "\n",
    "$$\n",
    "f(x) = \\sin(\\pi x) + \\frac{2}{\\pi}\n",
    "$$"
   ]
  },
  {
   "cell_type": "markdown",
   "metadata": {},
   "source": [
    "For the integral, we can use a Gaussian quadrature with the weight function $w(x) = 1$ on $(0, 1)$. Looking at http://dlmf.nist.gov/18.3, and find the corresponding function in *scipy.special* (pay attention to the integration interval).\n",
    "\n",
    "Compare the obtained function values with the true solution for different values of $N$. What value of $N$ can you stop at?"
   ]
  },
  {
   "cell_type": "code",
   "execution_count": 6,
   "metadata": {},
   "outputs": [
    {
     "name": "stdout",
     "output_type": "stream",
     "text": [
      "Кол-во узлов: 9 и дисперсия на сетке равна 3.6821932062951477e-16\n"
     ]
    },
    {
     "data": {
      "image/png": "[encoded data removed]",
      "text/plain": [
       "<Figure size 432x288 with 1 Axes>"
      ]
     },
     "metadata": {
      "needs_background": "light"
     },
     "output_type": "display_data"
    }
   ],
   "source": [
    "### Enter your code here\n",
    "import matplotlib.pyplot as plt\n",
    "\n",
    "def exact(x):\n",
    "    return np.sin(np.pi * x) + 2 / np.pi     # аналитическое решение\n",
    "\n",
    "def K(x, y):\n",
    "    return 1       # ядро\n",
    "\n",
    "def g(x):\n",
    "    return np.sin(np.pi * x)    # данная функция\n",
    "\n",
    "def f_FEsecond_discrete(g, K, l, w_n):     # принимает на вход g, K и lambda из уравнения Фредгольма, и также сетку+веса для нее в переменной w_n\n",
    "    N = w_n[0].shape[0]\n",
    "    \n",
    "    X = w_n[0]\n",
    "    w = w_n[1]\n",
    "    \n",
    "    M = np.eye(N)         # у нас есть в одной части просто f_k, что дает просто единицу\n",
    "    for k in range(N):\n",
    "        for j in range(N):\n",
    "            M[k, j] -= l * K(X[k], X[j]) * w[j]        # остальные элементы для СЛАУ по f приходят из суммы K_kj * f_j\n",
    "    \n",
    "    G = np.array([g(x) for x in X])               # находим g_k\n",
    "    \n",
    "    f_discrete = np.linalg.solve(M, G)            # используем встроенную функцию, чтобы решить СЛАУ\n",
    "    \n",
    "    return X, f_discrete               # возвращаем и сетку, и значения на ней(хотя сетку нам изначально и подали, можно и не возвращать)\n",
    "\n",
    "\n",
    "a = 0.\n",
    "b = 1.\n",
    "lamb = 0.5\n",
    "\n",
    "\n",
    "N = 1 # начинаем с 1 узла\n",
    "acc = 1e-15 # точность\n",
    "\n",
    "while(True):\n",
    "    w_n = scsp.roots_sh_legendre(N)        # сами понимаем, что тут из-за веса 1 и интервала от 0 до 1 можно использовать shifted_legendre\n",
    "    \n",
    "    x, y = f_FEsecond_discrete(g, K, lamb, w_n)     # получаем наши значения на сетке с N узлами\n",
    "    \n",
    "    Exact = np.array([exact(t) for t in x])      # можно останавливаться, например, когда дисперсия будет меньше нужной нам точности(по значениям в узлах), поэтому заведем массив точных значений в узлах\n",
    "    Error = (np.sum((Exact - y)**2))**0.5        # дисперсия\n",
    "    if Error < acc:\n",
    "        print(f'Кол-во узлов: {N} и дисперсия на сетке равна {Error}')\n",
    "        break\n",
    "    N += 1\n",
    "\n",
    "\n",
    "\n",
    "plt.plot(x, y, '*', label='discrete')     # строим значение в узлах\n",
    "\n",
    "X = np.arange(0, 1+1e-3, 1e-3)    # это будет сетка для построения нашего аналитического решения\n",
    "true = [exact(t) for t in X]\n",
    "plt.plot(X, true, '--', label='ground truth')\n",
    "\n",
    "plt.legend()\n",
    "plt.show()\n",
    "\n"
   ]
  },
  {
   "cell_type": "markdown",
   "metadata": {},
   "source": [
    "### Task 2.2\n",
    "(20% of the grade)\n",
    "\n",
    "An obvious issue with the privious result for $f(x)$ that it returns the solution on a fixed set of points. We do not control precise positions of these points.\n",
    "\n",
    "1. First, let's try to interpolate the values obtained in the previous task to a uniform grid of length 50. You may use any interpolation method. Compare the interpolation values with exact solution values."
   ]
  },
  {
   "cell_type": "code",
   "execution_count": 89,
   "metadata": {},
   "outputs": [
    {
     "data": {
      "image/png": "[encoded data removed]",
      "text/plain": [
       "<Figure size 432x288 with 1 Axes>"
      ]
     },
     "metadata": {
      "needs_background": "light"
     },
     "output_type": "display_data"
    }
   ],
   "source": [
    "### Enter your code here\n",
    "step = 1 / 50\n",
    "uniform = np.arange(0, 1+step, step)    # создаем равномерную сетку\n",
    "\n",
    "def P(X_Nodes, Y_Nodes, x):                 # код с 6 недели, который исользует полином Лагранжа(для любой сетки)\n",
    "    result = 0\n",
    "    N = X_Nodes.shape[0]\n",
    "    for i in range(N):\n",
    "        l = 1\n",
    "        for j in range(N):\n",
    "            if i != j:\n",
    "                l *= (x - X_Nodes[j])/(X_Nodes[i] - X_Nodes[j])\n",
    "        result += Y_Nodes[i] * l\n",
    "    return result\n",
    "\n",
    "\n",
    "Y = np.array([P(x, y, uni) for uni in uniform])      # интерполируем нашей функцией на равномерную сетку\n",
    "\n",
    "Exact = np.array([exact(t) for t in uniform])\n",
    "\n",
    "plt.plot(uniform, np.abs(Y-Exact), label='Error')  # смотрим на ошибку в каждой точке\n",
    "\n",
    "plt.legend()\n",
    "plt.show()"
   ]
  },
  {
   "cell_type": "markdown",
   "metadata": {},
   "source": [
    "2. Now use the following formula to calculate the function at points of the same uniform grid.\n",
    "$$\n",
    "f(x) = g(x) + \\lambda \\sum_j^N w_j\\, K(x, t_j)\\, f(t_j)\n",
    "$$\n",
    "Again, compare the interpolation values with the exact solution values, and also with the direct interpolation method."
   ]
  },
  {
   "cell_type": "code",
   "execution_count": 90,
   "metadata": {},
   "outputs": [
    {
     "data": {
      "image/png": "[encoded data removed]",
      "text/plain": [
       "<Figure size 432x288 with 1 Axes>"
      ]
     },
     "metadata": {
      "needs_background": "light"
     },
     "output_type": "display_data"
    }
   ],
   "source": [
    "### Enter your code here\n",
    "\n",
    "def f_FEsecond_uniform(g, K, l, w_n, uniform):\n",
    "    N = w_n[0].shape[0]\n",
    "    uniform = np.array(uniform)\n",
    "    \n",
    "    X = w_n[0]\n",
    "    w = w_n[1]\n",
    "    \n",
    "    M = np.eye(N)\n",
    "    for k in range(N):\n",
    "        for j in range(N):\n",
    "            M[k, j] -= l * K(X[k], X[j]) * w[j]       # первые строчки повторяют предыдущий код, высчитывая в узлах полинома из w_n значение функции\n",
    "    \n",
    "    G = np.array([g(x) for x in X])\n",
    "    \n",
    "    f_discrete = np.linalg.solve(M, G)\n",
    "    \n",
    "    L = uniform.shape[0]\n",
    "    K_x = np.zeros((L, N))                  # т.к. сетки необязательно совпадают по размерам, то {K_ij} - прямоугольная матрица\n",
    "    \n",
    "    f_uniform = np.array([g(x) for x in uniform])                   # тут у нас не будет СЛАУ как таковой, т.к. в сумме у нас уже все известные f_j\n",
    "    \n",
    "    for k in range(L):\n",
    "        for j in range(N):\n",
    "            f_uniform[k] += l * K(uniform[k], X[j]) * f_discrete[j] * w[j]      # поэтому мы для кажой нужной нам x на равномерной сетке прибавляем нужную сумму, в которой K зависит от этого x\n",
    "    \n",
    "    return f_uniform    # тут возвращаю просто значение функции на равномерной сетке\n",
    "\n",
    "Direct = f_FEsecond_uniform(g, K, lamb, w_n, uniform)\n",
    "plt.plot(uniform, np.abs(Direct-Exact), label='error')   # смотрим на ошибку в каждом узле\n",
    "\n",
    "plt.legend()\n",
    "plt.show()"
   ]
  },
  {
   "cell_type": "markdown",
   "metadata": {},
   "source": [
    "Для одного и того же N(в данном примере это N=9), метод где мы используем для интерполяции само же уравнение фредгольма дает на много порядков результат лучше"
   ]
  },
  {
   "cell_type": "code",
   "execution_count": null,
   "metadata": {},
   "outputs": [],
   "source": []
  }
 ],
 "metadata": {
  "kernelspec": {
   "display_name": "Python 3",
   "language": "python",
   "name": "python3"
  },
  "language_info": {
   "codemirror_mode": {
    "name": "ipython",
    "version": 3
   },
   "file_extension": ".py",
   "mimetype": "text/x-python",
   "name": "python",
   "nbconvert_exporter": "python",
   "pygments_lexer": "ipython3",
   "version": "3.7.6"
  }
 },
 "nbformat": 4,
 "nbformat_minor": 4
}
